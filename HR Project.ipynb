{
 "cells": [
  {
   "cell_type": "markdown",
   "id": "62db1f30",
   "metadata": {},
   "source": [
    "# About the Project: \n",
    "This project is for HR analytics. The main focus will be on the attrition rate and it's distrubution accross the different age groups, gender, and departments.\n",
    "We will also analyze some indicators like the performance rating in each age group and the promotion outliers.\n",
    "\n",
    "For the performance rating,\"1\" is the lowest rate while \"4\" is the higest."
   ]
  },
  {
   "cell_type": "code",
   "execution_count": 1,
   "id": "d576d38b",
   "metadata": {},
   "outputs": [],
   "source": [
    "import pandas as pd\n",
    "import seaborn as sns\n",
    "import matplotlib.pyplot as plt"
   ]
  },
  {
   "cell_type": "code",
   "execution_count": 2,
   "id": "ab114b03",
   "metadata": {
    "scrolled": true
   },
   "outputs": [
    {
     "data": {
      "text/html": [
       "<div>\n",
       "<style scoped>\n",
       "    .dataframe tbody tr th:only-of-type {\n",
       "        vertical-align: middle;\n",
       "    }\n",
       "\n",
       "    .dataframe tbody tr th {\n",
       "        vertical-align: top;\n",
       "    }\n",
       "\n",
       "    .dataframe thead th {\n",
       "        text-align: right;\n",
       "    }\n",
       "</style>\n",
       "<table border=\"1\" class=\"dataframe\">\n",
       "  <thead>\n",
       "    <tr style=\"text-align: right;\">\n",
       "      <th></th>\n",
       "      <th>Attrition</th>\n",
       "      <th>Business Travel</th>\n",
       "      <th>CF_age band</th>\n",
       "      <th>CF_attrition label</th>\n",
       "      <th>Department</th>\n",
       "      <th>Education Field</th>\n",
       "      <th>emp no</th>\n",
       "      <th>Employee Number</th>\n",
       "      <th>Gender</th>\n",
       "      <th>Job Role</th>\n",
       "      <th>...</th>\n",
       "      <th>Performance Rating</th>\n",
       "      <th>Relationship Satisfaction</th>\n",
       "      <th>Standard Hours</th>\n",
       "      <th>Stock Option Level</th>\n",
       "      <th>Total Working Years</th>\n",
       "      <th>Work Life Balance</th>\n",
       "      <th>Years At Company</th>\n",
       "      <th>Years In Current Role</th>\n",
       "      <th>Years Since Last Promotion</th>\n",
       "      <th>Years With Curr Manager</th>\n",
       "    </tr>\n",
       "  </thead>\n",
       "  <tbody>\n",
       "    <tr>\n",
       "      <th>0</th>\n",
       "      <td>Yes</td>\n",
       "      <td>Travel_Rarely</td>\n",
       "      <td>35 - 44</td>\n",
       "      <td>Ex-Employees</td>\n",
       "      <td>Sales</td>\n",
       "      <td>Life Sciences</td>\n",
       "      <td>STAFF-1</td>\n",
       "      <td>1</td>\n",
       "      <td>Female</td>\n",
       "      <td>Sales Executive</td>\n",
       "      <td>...</td>\n",
       "      <td>3</td>\n",
       "      <td>1</td>\n",
       "      <td>80</td>\n",
       "      <td>0</td>\n",
       "      <td>8</td>\n",
       "      <td>1</td>\n",
       "      <td>6</td>\n",
       "      <td>4</td>\n",
       "      <td>0</td>\n",
       "      <td>5</td>\n",
       "    </tr>\n",
       "    <tr>\n",
       "      <th>1</th>\n",
       "      <td>No</td>\n",
       "      <td>Travel_Frequently</td>\n",
       "      <td>45 - 54</td>\n",
       "      <td>Current Employees</td>\n",
       "      <td>R&amp;D</td>\n",
       "      <td>Life Sciences</td>\n",
       "      <td>STAFF-2</td>\n",
       "      <td>2</td>\n",
       "      <td>Male</td>\n",
       "      <td>Research Scientist</td>\n",
       "      <td>...</td>\n",
       "      <td>4</td>\n",
       "      <td>4</td>\n",
       "      <td>80</td>\n",
       "      <td>1</td>\n",
       "      <td>10</td>\n",
       "      <td>3</td>\n",
       "      <td>10</td>\n",
       "      <td>7</td>\n",
       "      <td>1</td>\n",
       "      <td>7</td>\n",
       "    </tr>\n",
       "    <tr>\n",
       "      <th>2</th>\n",
       "      <td>Yes</td>\n",
       "      <td>Travel_Rarely</td>\n",
       "      <td>35 - 44</td>\n",
       "      <td>Ex-Employees</td>\n",
       "      <td>R&amp;D</td>\n",
       "      <td>Other</td>\n",
       "      <td>STAFF-4</td>\n",
       "      <td>4</td>\n",
       "      <td>Male</td>\n",
       "      <td>Laboratory Technician</td>\n",
       "      <td>...</td>\n",
       "      <td>3</td>\n",
       "      <td>2</td>\n",
       "      <td>80</td>\n",
       "      <td>0</td>\n",
       "      <td>7</td>\n",
       "      <td>3</td>\n",
       "      <td>0</td>\n",
       "      <td>0</td>\n",
       "      <td>0</td>\n",
       "      <td>0</td>\n",
       "    </tr>\n",
       "    <tr>\n",
       "      <th>3</th>\n",
       "      <td>No</td>\n",
       "      <td>Travel_Frequently</td>\n",
       "      <td>25 - 34</td>\n",
       "      <td>Current Employees</td>\n",
       "      <td>R&amp;D</td>\n",
       "      <td>Life Sciences</td>\n",
       "      <td>STAFF-5</td>\n",
       "      <td>5</td>\n",
       "      <td>Female</td>\n",
       "      <td>Research Scientist</td>\n",
       "      <td>...</td>\n",
       "      <td>3</td>\n",
       "      <td>3</td>\n",
       "      <td>80</td>\n",
       "      <td>0</td>\n",
       "      <td>8</td>\n",
       "      <td>3</td>\n",
       "      <td>8</td>\n",
       "      <td>7</td>\n",
       "      <td>3</td>\n",
       "      <td>0</td>\n",
       "    </tr>\n",
       "    <tr>\n",
       "      <th>4</th>\n",
       "      <td>No</td>\n",
       "      <td>Travel_Rarely</td>\n",
       "      <td>25 - 34</td>\n",
       "      <td>Current Employees</td>\n",
       "      <td>R&amp;D</td>\n",
       "      <td>Medical</td>\n",
       "      <td>STAFF-7</td>\n",
       "      <td>7</td>\n",
       "      <td>Male</td>\n",
       "      <td>Laboratory Technician</td>\n",
       "      <td>...</td>\n",
       "      <td>3</td>\n",
       "      <td>4</td>\n",
       "      <td>80</td>\n",
       "      <td>1</td>\n",
       "      <td>6</td>\n",
       "      <td>3</td>\n",
       "      <td>2</td>\n",
       "      <td>2</td>\n",
       "      <td>2</td>\n",
       "      <td>2</td>\n",
       "    </tr>\n",
       "    <tr>\n",
       "      <th>...</th>\n",
       "      <td>...</td>\n",
       "      <td>...</td>\n",
       "      <td>...</td>\n",
       "      <td>...</td>\n",
       "      <td>...</td>\n",
       "      <td>...</td>\n",
       "      <td>...</td>\n",
       "      <td>...</td>\n",
       "      <td>...</td>\n",
       "      <td>...</td>\n",
       "      <td>...</td>\n",
       "      <td>...</td>\n",
       "      <td>...</td>\n",
       "      <td>...</td>\n",
       "      <td>...</td>\n",
       "      <td>...</td>\n",
       "      <td>...</td>\n",
       "      <td>...</td>\n",
       "      <td>...</td>\n",
       "      <td>...</td>\n",
       "      <td>...</td>\n",
       "    </tr>\n",
       "    <tr>\n",
       "      <th>1465</th>\n",
       "      <td>Yes</td>\n",
       "      <td>Non-Travel</td>\n",
       "      <td>25 - 34</td>\n",
       "      <td>Ex-Employees</td>\n",
       "      <td>R&amp;D</td>\n",
       "      <td>Technical Degree</td>\n",
       "      <td>STAFF-1905</td>\n",
       "      <td>1905</td>\n",
       "      <td>Male</td>\n",
       "      <td>Research Scientist</td>\n",
       "      <td>...</td>\n",
       "      <td>4</td>\n",
       "      <td>2</td>\n",
       "      <td>80</td>\n",
       "      <td>1</td>\n",
       "      <td>5</td>\n",
       "      <td>3</td>\n",
       "      <td>5</td>\n",
       "      <td>2</td>\n",
       "      <td>3</td>\n",
       "      <td>0</td>\n",
       "    </tr>\n",
       "    <tr>\n",
       "      <th>1466</th>\n",
       "      <td>Yes</td>\n",
       "      <td>Travel_Frequently</td>\n",
       "      <td>25 - 34</td>\n",
       "      <td>Ex-Employees</td>\n",
       "      <td>R&amp;D</td>\n",
       "      <td>Life Sciences</td>\n",
       "      <td>STAFF-1868</td>\n",
       "      <td>1868</td>\n",
       "      <td>Male</td>\n",
       "      <td>Research Scientist</td>\n",
       "      <td>...</td>\n",
       "      <td>4</td>\n",
       "      <td>2</td>\n",
       "      <td>80</td>\n",
       "      <td>0</td>\n",
       "      <td>1</td>\n",
       "      <td>2</td>\n",
       "      <td>1</td>\n",
       "      <td>0</td>\n",
       "      <td>1</td>\n",
       "      <td>0</td>\n",
       "    </tr>\n",
       "    <tr>\n",
       "      <th>1467</th>\n",
       "      <td>Yes</td>\n",
       "      <td>Travel_Frequently</td>\n",
       "      <td>35 - 44</td>\n",
       "      <td>Ex-Employees</td>\n",
       "      <td>Sales</td>\n",
       "      <td>Other</td>\n",
       "      <td>STAFF-1667</td>\n",
       "      <td>1667</td>\n",
       "      <td>Male</td>\n",
       "      <td>Sales Executive</td>\n",
       "      <td>...</td>\n",
       "      <td>4</td>\n",
       "      <td>1</td>\n",
       "      <td>80</td>\n",
       "      <td>0</td>\n",
       "      <td>13</td>\n",
       "      <td>4</td>\n",
       "      <td>11</td>\n",
       "      <td>9</td>\n",
       "      <td>6</td>\n",
       "      <td>7</td>\n",
       "    </tr>\n",
       "    <tr>\n",
       "      <th>1468</th>\n",
       "      <td>Yes</td>\n",
       "      <td>Travel_Rarely</td>\n",
       "      <td>Under 25</td>\n",
       "      <td>Ex-Employees</td>\n",
       "      <td>R&amp;D</td>\n",
       "      <td>Life Sciences</td>\n",
       "      <td>STAFF-1878</td>\n",
       "      <td>1878</td>\n",
       "      <td>Male</td>\n",
       "      <td>Research Scientist</td>\n",
       "      <td>...</td>\n",
       "      <td>4</td>\n",
       "      <td>1</td>\n",
       "      <td>80</td>\n",
       "      <td>0</td>\n",
       "      <td>1</td>\n",
       "      <td>3</td>\n",
       "      <td>1</td>\n",
       "      <td>0</td>\n",
       "      <td>0</td>\n",
       "      <td>0</td>\n",
       "    </tr>\n",
       "    <tr>\n",
       "      <th>1469</th>\n",
       "      <td>Yes</td>\n",
       "      <td>Travel_Rarely</td>\n",
       "      <td>Under 25</td>\n",
       "      <td>Ex-Employees</td>\n",
       "      <td>Sales</td>\n",
       "      <td>Life Sciences</td>\n",
       "      <td>STAFF-1702</td>\n",
       "      <td>1702</td>\n",
       "      <td>Male</td>\n",
       "      <td>Sales Representative</td>\n",
       "      <td>...</td>\n",
       "      <td>4</td>\n",
       "      <td>2</td>\n",
       "      <td>80</td>\n",
       "      <td>1</td>\n",
       "      <td>3</td>\n",
       "      <td>3</td>\n",
       "      <td>3</td>\n",
       "      <td>2</td>\n",
       "      <td>0</td>\n",
       "      <td>2</td>\n",
       "    </tr>\n",
       "  </tbody>\n",
       "</table>\n",
       "<p>1470 rows × 41 columns</p>\n",
       "</div>"
      ],
      "text/plain": [
       "     Attrition    Business Travel CF_age band CF_attrition label Department  \\\n",
       "0          Yes      Travel_Rarely     35 - 44       Ex-Employees      Sales   \n",
       "1           No  Travel_Frequently     45 - 54  Current Employees        R&D   \n",
       "2          Yes      Travel_Rarely     35 - 44       Ex-Employees        R&D   \n",
       "3           No  Travel_Frequently     25 - 34  Current Employees        R&D   \n",
       "4           No      Travel_Rarely     25 - 34  Current Employees        R&D   \n",
       "...        ...                ...         ...                ...        ...   \n",
       "1465       Yes         Non-Travel     25 - 34       Ex-Employees        R&D   \n",
       "1466       Yes  Travel_Frequently     25 - 34       Ex-Employees        R&D   \n",
       "1467       Yes  Travel_Frequently     35 - 44       Ex-Employees      Sales   \n",
       "1468       Yes      Travel_Rarely    Under 25       Ex-Employees        R&D   \n",
       "1469       Yes      Travel_Rarely    Under 25       Ex-Employees      Sales   \n",
       "\n",
       "       Education Field      emp no  Employee Number  Gender  \\\n",
       "0        Life Sciences     STAFF-1                1  Female   \n",
       "1        Life Sciences     STAFF-2                2    Male   \n",
       "2                Other     STAFF-4                4    Male   \n",
       "3        Life Sciences     STAFF-5                5  Female   \n",
       "4              Medical     STAFF-7                7    Male   \n",
       "...                ...         ...              ...     ...   \n",
       "1465  Technical Degree  STAFF-1905             1905    Male   \n",
       "1466     Life Sciences  STAFF-1868             1868    Male   \n",
       "1467             Other  STAFF-1667             1667    Male   \n",
       "1468     Life Sciences  STAFF-1878             1878    Male   \n",
       "1469     Life Sciences  STAFF-1702             1702    Male   \n",
       "\n",
       "                   Job Role  ... Performance Rating Relationship Satisfaction  \\\n",
       "0           Sales Executive  ...                  3                         1   \n",
       "1        Research Scientist  ...                  4                         4   \n",
       "2     Laboratory Technician  ...                  3                         2   \n",
       "3        Research Scientist  ...                  3                         3   \n",
       "4     Laboratory Technician  ...                  3                         4   \n",
       "...                     ...  ...                ...                       ...   \n",
       "1465     Research Scientist  ...                  4                         2   \n",
       "1466     Research Scientist  ...                  4                         2   \n",
       "1467        Sales Executive  ...                  4                         1   \n",
       "1468     Research Scientist  ...                  4                         1   \n",
       "1469   Sales Representative  ...                  4                         2   \n",
       "\n",
       "     Standard Hours  Stock Option Level  Total Working Years  \\\n",
       "0                80                   0                    8   \n",
       "1                80                   1                   10   \n",
       "2                80                   0                    7   \n",
       "3                80                   0                    8   \n",
       "4                80                   1                    6   \n",
       "...             ...                 ...                  ...   \n",
       "1465             80                   1                    5   \n",
       "1466             80                   0                    1   \n",
       "1467             80                   0                   13   \n",
       "1468             80                   0                    1   \n",
       "1469             80                   1                    3   \n",
       "\n",
       "      Work Life Balance  Years At Company  Years In Current Role  \\\n",
       "0                     1                 6                      4   \n",
       "1                     3                10                      7   \n",
       "2                     3                 0                      0   \n",
       "3                     3                 8                      7   \n",
       "4                     3                 2                      2   \n",
       "...                 ...               ...                    ...   \n",
       "1465                  3                 5                      2   \n",
       "1466                  2                 1                      0   \n",
       "1467                  4                11                      9   \n",
       "1468                  3                 1                      0   \n",
       "1469                  3                 3                      2   \n",
       "\n",
       "      Years Since Last Promotion  Years With Curr Manager  \n",
       "0                              0                        5  \n",
       "1                              1                        7  \n",
       "2                              0                        0  \n",
       "3                              3                        0  \n",
       "4                              2                        2  \n",
       "...                          ...                      ...  \n",
       "1465                           3                        0  \n",
       "1466                           1                        0  \n",
       "1467                           6                        7  \n",
       "1468                           0                        0  \n",
       "1469                           0                        2  \n",
       "\n",
       "[1470 rows x 41 columns]"
      ]
     },
     "execution_count": 2,
     "metadata": {},
     "output_type": "execute_result"
    }
   ],
   "source": [
    "# Reading Data\n",
    "data = pd.read_excel(r\"C:\\Users\\Bachir\\OneDrive - um5.ac.ma\\Excel\\Anglais\\HR Data.xlsx\")\n",
    "data"
   ]
  },
  {
   "cell_type": "markdown",
   "id": "cf2f5931",
   "metadata": {},
   "source": [
    "# Exploring Data"
   ]
  },
  {
   "cell_type": "code",
   "execution_count": 3,
   "id": "e19b3e6d",
   "metadata": {},
   "outputs": [
    {
     "data": {
      "text/html": [
       "<div>\n",
       "<style scoped>\n",
       "    .dataframe tbody tr th:only-of-type {\n",
       "        vertical-align: middle;\n",
       "    }\n",
       "\n",
       "    .dataframe tbody tr th {\n",
       "        vertical-align: top;\n",
       "    }\n",
       "\n",
       "    .dataframe thead th {\n",
       "        text-align: right;\n",
       "    }\n",
       "</style>\n",
       "<table border=\"1\" class=\"dataframe\">\n",
       "  <thead>\n",
       "    <tr style=\"text-align: right;\">\n",
       "      <th></th>\n",
       "      <th>Employee Number</th>\n",
       "      <th>Training Times Last Year</th>\n",
       "      <th>-2</th>\n",
       "      <th>0</th>\n",
       "      <th>Age</th>\n",
       "      <th>CF_current Employee</th>\n",
       "      <th>Daily Rate</th>\n",
       "      <th>Distance From Home</th>\n",
       "      <th>Employee Count</th>\n",
       "      <th>Environment Satisfaction</th>\n",
       "      <th>...</th>\n",
       "      <th>Performance Rating</th>\n",
       "      <th>Relationship Satisfaction</th>\n",
       "      <th>Standard Hours</th>\n",
       "      <th>Stock Option Level</th>\n",
       "      <th>Total Working Years</th>\n",
       "      <th>Work Life Balance</th>\n",
       "      <th>Years At Company</th>\n",
       "      <th>Years In Current Role</th>\n",
       "      <th>Years Since Last Promotion</th>\n",
       "      <th>Years With Curr Manager</th>\n",
       "    </tr>\n",
       "  </thead>\n",
       "  <tbody>\n",
       "    <tr>\n",
       "      <th>count</th>\n",
       "      <td>1470.000000</td>\n",
       "      <td>1470.000000</td>\n",
       "      <td>1470.0</td>\n",
       "      <td>1470.0</td>\n",
       "      <td>1470.000000</td>\n",
       "      <td>1470.000000</td>\n",
       "      <td>1470.000000</td>\n",
       "      <td>1470.000000</td>\n",
       "      <td>1470.0</td>\n",
       "      <td>1470.000000</td>\n",
       "      <td>...</td>\n",
       "      <td>1470.000000</td>\n",
       "      <td>1470.000000</td>\n",
       "      <td>1470.0</td>\n",
       "      <td>1470.000000</td>\n",
       "      <td>1470.000000</td>\n",
       "      <td>1470.000000</td>\n",
       "      <td>1470.000000</td>\n",
       "      <td>1470.000000</td>\n",
       "      <td>1470.000000</td>\n",
       "      <td>1470.000000</td>\n",
       "    </tr>\n",
       "    <tr>\n",
       "      <th>mean</th>\n",
       "      <td>1024.865306</td>\n",
       "      <td>2.799320</td>\n",
       "      <td>-2.0</td>\n",
       "      <td>0.0</td>\n",
       "      <td>36.923810</td>\n",
       "      <td>0.838776</td>\n",
       "      <td>802.485714</td>\n",
       "      <td>9.192517</td>\n",
       "      <td>1.0</td>\n",
       "      <td>2.721769</td>\n",
       "      <td>...</td>\n",
       "      <td>3.153741</td>\n",
       "      <td>2.712245</td>\n",
       "      <td>80.0</td>\n",
       "      <td>0.793878</td>\n",
       "      <td>11.279592</td>\n",
       "      <td>2.761224</td>\n",
       "      <td>7.008163</td>\n",
       "      <td>4.229252</td>\n",
       "      <td>2.187755</td>\n",
       "      <td>4.123129</td>\n",
       "    </tr>\n",
       "    <tr>\n",
       "      <th>std</th>\n",
       "      <td>602.024335</td>\n",
       "      <td>1.289271</td>\n",
       "      <td>0.0</td>\n",
       "      <td>0.0</td>\n",
       "      <td>9.135373</td>\n",
       "      <td>0.367863</td>\n",
       "      <td>403.509100</td>\n",
       "      <td>8.106864</td>\n",
       "      <td>0.0</td>\n",
       "      <td>1.093082</td>\n",
       "      <td>...</td>\n",
       "      <td>0.360824</td>\n",
       "      <td>1.081209</td>\n",
       "      <td>0.0</td>\n",
       "      <td>0.852077</td>\n",
       "      <td>7.780782</td>\n",
       "      <td>0.706476</td>\n",
       "      <td>6.126525</td>\n",
       "      <td>3.623137</td>\n",
       "      <td>3.222430</td>\n",
       "      <td>3.568136</td>\n",
       "    </tr>\n",
       "    <tr>\n",
       "      <th>min</th>\n",
       "      <td>1.000000</td>\n",
       "      <td>0.000000</td>\n",
       "      <td>-2.0</td>\n",
       "      <td>0.0</td>\n",
       "      <td>18.000000</td>\n",
       "      <td>0.000000</td>\n",
       "      <td>102.000000</td>\n",
       "      <td>1.000000</td>\n",
       "      <td>1.0</td>\n",
       "      <td>1.000000</td>\n",
       "      <td>...</td>\n",
       "      <td>3.000000</td>\n",
       "      <td>1.000000</td>\n",
       "      <td>80.0</td>\n",
       "      <td>0.000000</td>\n",
       "      <td>0.000000</td>\n",
       "      <td>1.000000</td>\n",
       "      <td>0.000000</td>\n",
       "      <td>0.000000</td>\n",
       "      <td>0.000000</td>\n",
       "      <td>0.000000</td>\n",
       "    </tr>\n",
       "    <tr>\n",
       "      <th>25%</th>\n",
       "      <td>491.250000</td>\n",
       "      <td>2.000000</td>\n",
       "      <td>-2.0</td>\n",
       "      <td>0.0</td>\n",
       "      <td>30.000000</td>\n",
       "      <td>1.000000</td>\n",
       "      <td>465.000000</td>\n",
       "      <td>2.000000</td>\n",
       "      <td>1.0</td>\n",
       "      <td>2.000000</td>\n",
       "      <td>...</td>\n",
       "      <td>3.000000</td>\n",
       "      <td>2.000000</td>\n",
       "      <td>80.0</td>\n",
       "      <td>0.000000</td>\n",
       "      <td>6.000000</td>\n",
       "      <td>2.000000</td>\n",
       "      <td>3.000000</td>\n",
       "      <td>2.000000</td>\n",
       "      <td>0.000000</td>\n",
       "      <td>2.000000</td>\n",
       "    </tr>\n",
       "    <tr>\n",
       "      <th>50%</th>\n",
       "      <td>1020.500000</td>\n",
       "      <td>3.000000</td>\n",
       "      <td>-2.0</td>\n",
       "      <td>0.0</td>\n",
       "      <td>36.000000</td>\n",
       "      <td>1.000000</td>\n",
       "      <td>802.000000</td>\n",
       "      <td>7.000000</td>\n",
       "      <td>1.0</td>\n",
       "      <td>3.000000</td>\n",
       "      <td>...</td>\n",
       "      <td>3.000000</td>\n",
       "      <td>3.000000</td>\n",
       "      <td>80.0</td>\n",
       "      <td>1.000000</td>\n",
       "      <td>10.000000</td>\n",
       "      <td>3.000000</td>\n",
       "      <td>5.000000</td>\n",
       "      <td>3.000000</td>\n",
       "      <td>1.000000</td>\n",
       "      <td>3.000000</td>\n",
       "    </tr>\n",
       "    <tr>\n",
       "      <th>75%</th>\n",
       "      <td>1555.750000</td>\n",
       "      <td>3.000000</td>\n",
       "      <td>-2.0</td>\n",
       "      <td>0.0</td>\n",
       "      <td>43.000000</td>\n",
       "      <td>1.000000</td>\n",
       "      <td>1157.000000</td>\n",
       "      <td>14.000000</td>\n",
       "      <td>1.0</td>\n",
       "      <td>4.000000</td>\n",
       "      <td>...</td>\n",
       "      <td>3.000000</td>\n",
       "      <td>4.000000</td>\n",
       "      <td>80.0</td>\n",
       "      <td>1.000000</td>\n",
       "      <td>15.000000</td>\n",
       "      <td>3.000000</td>\n",
       "      <td>9.000000</td>\n",
       "      <td>7.000000</td>\n",
       "      <td>3.000000</td>\n",
       "      <td>7.000000</td>\n",
       "    </tr>\n",
       "    <tr>\n",
       "      <th>max</th>\n",
       "      <td>2068.000000</td>\n",
       "      <td>6.000000</td>\n",
       "      <td>-2.0</td>\n",
       "      <td>0.0</td>\n",
       "      <td>60.000000</td>\n",
       "      <td>1.000000</td>\n",
       "      <td>1499.000000</td>\n",
       "      <td>29.000000</td>\n",
       "      <td>1.0</td>\n",
       "      <td>4.000000</td>\n",
       "      <td>...</td>\n",
       "      <td>4.000000</td>\n",
       "      <td>4.000000</td>\n",
       "      <td>80.0</td>\n",
       "      <td>3.000000</td>\n",
       "      <td>40.000000</td>\n",
       "      <td>4.000000</td>\n",
       "      <td>40.000000</td>\n",
       "      <td>18.000000</td>\n",
       "      <td>15.000000</td>\n",
       "      <td>17.000000</td>\n",
       "    </tr>\n",
       "  </tbody>\n",
       "</table>\n",
       "<p>8 rows × 28 columns</p>\n",
       "</div>"
      ],
      "text/plain": [
       "       Employee Number  Training Times Last Year      -2       0          Age  \\\n",
       "count      1470.000000               1470.000000  1470.0  1470.0  1470.000000   \n",
       "mean       1024.865306                  2.799320    -2.0     0.0    36.923810   \n",
       "std         602.024335                  1.289271     0.0     0.0     9.135373   \n",
       "min           1.000000                  0.000000    -2.0     0.0    18.000000   \n",
       "25%         491.250000                  2.000000    -2.0     0.0    30.000000   \n",
       "50%        1020.500000                  3.000000    -2.0     0.0    36.000000   \n",
       "75%        1555.750000                  3.000000    -2.0     0.0    43.000000   \n",
       "max        2068.000000                  6.000000    -2.0     0.0    60.000000   \n",
       "\n",
       "       CF_current Employee   Daily Rate  Distance From Home  Employee Count  \\\n",
       "count          1470.000000  1470.000000         1470.000000          1470.0   \n",
       "mean              0.838776   802.485714            9.192517             1.0   \n",
       "std               0.367863   403.509100            8.106864             0.0   \n",
       "min               0.000000   102.000000            1.000000             1.0   \n",
       "25%               1.000000   465.000000            2.000000             1.0   \n",
       "50%               1.000000   802.000000            7.000000             1.0   \n",
       "75%               1.000000  1157.000000           14.000000             1.0   \n",
       "max               1.000000  1499.000000           29.000000             1.0   \n",
       "\n",
       "       Environment Satisfaction  ...  Performance Rating  \\\n",
       "count               1470.000000  ...         1470.000000   \n",
       "mean                   2.721769  ...            3.153741   \n",
       "std                    1.093082  ...            0.360824   \n",
       "min                    1.000000  ...            3.000000   \n",
       "25%                    2.000000  ...            3.000000   \n",
       "50%                    3.000000  ...            3.000000   \n",
       "75%                    4.000000  ...            3.000000   \n",
       "max                    4.000000  ...            4.000000   \n",
       "\n",
       "       Relationship Satisfaction  Standard Hours  Stock Option Level  \\\n",
       "count                1470.000000          1470.0         1470.000000   \n",
       "mean                    2.712245            80.0            0.793878   \n",
       "std                     1.081209             0.0            0.852077   \n",
       "min                     1.000000            80.0            0.000000   \n",
       "25%                     2.000000            80.0            0.000000   \n",
       "50%                     3.000000            80.0            1.000000   \n",
       "75%                     4.000000            80.0            1.000000   \n",
       "max                     4.000000            80.0            3.000000   \n",
       "\n",
       "       Total Working Years  Work Life Balance  Years At Company  \\\n",
       "count          1470.000000        1470.000000       1470.000000   \n",
       "mean             11.279592           2.761224          7.008163   \n",
       "std               7.780782           0.706476          6.126525   \n",
       "min               0.000000           1.000000          0.000000   \n",
       "25%               6.000000           2.000000          3.000000   \n",
       "50%              10.000000           3.000000          5.000000   \n",
       "75%              15.000000           3.000000          9.000000   \n",
       "max              40.000000           4.000000         40.000000   \n",
       "\n",
       "       Years In Current Role  Years Since Last Promotion  \\\n",
       "count            1470.000000                 1470.000000   \n",
       "mean                4.229252                    2.187755   \n",
       "std                 3.623137                    3.222430   \n",
       "min                 0.000000                    0.000000   \n",
       "25%                 2.000000                    0.000000   \n",
       "50%                 3.000000                    1.000000   \n",
       "75%                 7.000000                    3.000000   \n",
       "max                18.000000                   15.000000   \n",
       "\n",
       "       Years With Curr Manager  \n",
       "count              1470.000000  \n",
       "mean                  4.123129  \n",
       "std                   3.568136  \n",
       "min                   0.000000  \n",
       "25%                   2.000000  \n",
       "50%                   3.000000  \n",
       "75%                   7.000000  \n",
       "max                  17.000000  \n",
       "\n",
       "[8 rows x 28 columns]"
      ]
     },
     "execution_count": 3,
     "metadata": {},
     "output_type": "execute_result"
    }
   ],
   "source": [
    "#Summarizing the numeric Columns of the dataset\n",
    "data.describe()"
   ]
  },
  {
   "cell_type": "code",
   "execution_count": 4,
   "id": "57256ad4",
   "metadata": {},
   "outputs": [
    {
     "data": {
      "text/plain": [
       "Attrition                     0\n",
       "Business Travel               0\n",
       "CF_age band                   0\n",
       "CF_attrition label            0\n",
       "Department                    0\n",
       "Education Field               0\n",
       "emp no                        0\n",
       "Employee Number               0\n",
       "Gender                        0\n",
       "Job Role                      0\n",
       "Marital Status                0\n",
       "Over Time                     0\n",
       "Over18                        0\n",
       "Training Times Last Year      0\n",
       "-2                            0\n",
       "0                             0\n",
       "Age                           0\n",
       "CF_current Employee           0\n",
       "Daily Rate                    0\n",
       "Distance From Home            0\n",
       "Education                     0\n",
       "Employee Count                0\n",
       "Environment Satisfaction      0\n",
       "Hourly Rate                   0\n",
       "Job Involvement               0\n",
       "Job Level                     0\n",
       "Job Satisfaction              0\n",
       "Monthly Income                0\n",
       "Monthly Rate                  0\n",
       "Num Companies Worked          0\n",
       "Percent Salary Hike           0\n",
       "Performance Rating            0\n",
       "Relationship Satisfaction     0\n",
       "Standard Hours                0\n",
       "Stock Option Level            0\n",
       "Total Working Years           0\n",
       "Work Life Balance             0\n",
       "Years At Company              0\n",
       "Years In Current Role         0\n",
       "Years Since Last Promotion    0\n",
       "Years With Curr Manager       0\n",
       "dtype: int64"
      ]
     },
     "execution_count": 4,
     "metadata": {},
     "output_type": "execute_result"
    }
   ],
   "source": [
    "#Looking for the null values\n",
    "data.isnull().sum()                 #no null values in the data"
   ]
  },
  {
   "cell_type": "code",
   "execution_count": 5,
   "id": "4690154d",
   "metadata": {},
   "outputs": [
    {
     "data": {
      "text/plain": [
       "0"
      ]
     },
     "execution_count": 5,
     "metadata": {},
     "output_type": "execute_result"
    }
   ],
   "source": [
    "#Looking for the duplicates\n",
    "data.duplicated().sum()        # No Duplicated values in the data "
   ]
  },
  {
   "cell_type": "code",
   "execution_count": 6,
   "id": "b1a1d1a2",
   "metadata": {},
   "outputs": [
    {
     "data": {
      "text/plain": [
       "Attrition                        2\n",
       "Business Travel                  3\n",
       "CF_age band                      5\n",
       "CF_attrition label               2\n",
       "Department                       3\n",
       "Education Field                  6\n",
       "emp no                        1470\n",
       "Employee Number               1470\n",
       "Gender                           2\n",
       "Job Role                         9\n",
       "Marital Status                   3\n",
       "Over Time                        2\n",
       "Over18                           1\n",
       "Training Times Last Year         7\n",
       "-2                               1\n",
       "0                                1\n",
       "Age                             43\n",
       "CF_current Employee              2\n",
       "Daily Rate                     886\n",
       "Distance From Home              29\n",
       "Education                        5\n",
       "Employee Count                   1\n",
       "Environment Satisfaction         4\n",
       "Hourly Rate                     71\n",
       "Job Involvement                  4\n",
       "Job Level                        5\n",
       "Job Satisfaction                 4\n",
       "Monthly Income                1349\n",
       "Monthly Rate                  1427\n",
       "Num Companies Worked            10\n",
       "Percent Salary Hike             15\n",
       "Performance Rating               2\n",
       "Relationship Satisfaction        4\n",
       "Standard Hours                   1\n",
       "Stock Option Level               4\n",
       "Total Working Years             40\n",
       "Work Life Balance                4\n",
       "Years At Company                37\n",
       "Years In Current Role           19\n",
       "Years Since Last Promotion      16\n",
       "Years With Curr Manager         18\n",
       "dtype: int64"
      ]
     },
     "execution_count": 6,
     "metadata": {},
     "output_type": "execute_result"
    }
   ],
   "source": [
    "#Checking for the unique values in each columnb\n",
    "data.nunique()"
   ]
  },
  {
   "cell_type": "markdown",
   "id": "1d1ddd62",
   "metadata": {},
   "source": [
    "# 1. Rename the \"CF_age band\" Column to \"Age_group\""
   ]
  },
  {
   "cell_type": "code",
   "execution_count": 7,
   "id": "46d4213d",
   "metadata": {
    "scrolled": true
   },
   "outputs": [
    {
     "data": {
      "text/html": [
       "<div>\n",
       "<style scoped>\n",
       "    .dataframe tbody tr th:only-of-type {\n",
       "        vertical-align: middle;\n",
       "    }\n",
       "\n",
       "    .dataframe tbody tr th {\n",
       "        vertical-align: top;\n",
       "    }\n",
       "\n",
       "    .dataframe thead th {\n",
       "        text-align: right;\n",
       "    }\n",
       "</style>\n",
       "<table border=\"1\" class=\"dataframe\">\n",
       "  <thead>\n",
       "    <tr style=\"text-align: right;\">\n",
       "      <th></th>\n",
       "      <th>Attrition</th>\n",
       "      <th>Business Travel</th>\n",
       "      <th>Age_group</th>\n",
       "      <th>CF_attrition label</th>\n",
       "      <th>Department</th>\n",
       "      <th>Education Field</th>\n",
       "      <th>emp no</th>\n",
       "      <th>Employee Number</th>\n",
       "      <th>Gender</th>\n",
       "      <th>Job Role</th>\n",
       "      <th>...</th>\n",
       "      <th>Performance Rating</th>\n",
       "      <th>Relationship Satisfaction</th>\n",
       "      <th>Standard Hours</th>\n",
       "      <th>Stock Option Level</th>\n",
       "      <th>Total Working Years</th>\n",
       "      <th>Work Life Balance</th>\n",
       "      <th>Years At Company</th>\n",
       "      <th>Years In Current Role</th>\n",
       "      <th>Years Since Last Promotion</th>\n",
       "      <th>Years With Curr Manager</th>\n",
       "    </tr>\n",
       "  </thead>\n",
       "  <tbody>\n",
       "    <tr>\n",
       "      <th>0</th>\n",
       "      <td>Yes</td>\n",
       "      <td>Travel_Rarely</td>\n",
       "      <td>35 - 44</td>\n",
       "      <td>Ex-Employees</td>\n",
       "      <td>Sales</td>\n",
       "      <td>Life Sciences</td>\n",
       "      <td>STAFF-1</td>\n",
       "      <td>1</td>\n",
       "      <td>Female</td>\n",
       "      <td>Sales Executive</td>\n",
       "      <td>...</td>\n",
       "      <td>3</td>\n",
       "      <td>1</td>\n",
       "      <td>80</td>\n",
       "      <td>0</td>\n",
       "      <td>8</td>\n",
       "      <td>1</td>\n",
       "      <td>6</td>\n",
       "      <td>4</td>\n",
       "      <td>0</td>\n",
       "      <td>5</td>\n",
       "    </tr>\n",
       "    <tr>\n",
       "      <th>1</th>\n",
       "      <td>No</td>\n",
       "      <td>Travel_Frequently</td>\n",
       "      <td>45 - 54</td>\n",
       "      <td>Current Employees</td>\n",
       "      <td>R&amp;D</td>\n",
       "      <td>Life Sciences</td>\n",
       "      <td>STAFF-2</td>\n",
       "      <td>2</td>\n",
       "      <td>Male</td>\n",
       "      <td>Research Scientist</td>\n",
       "      <td>...</td>\n",
       "      <td>4</td>\n",
       "      <td>4</td>\n",
       "      <td>80</td>\n",
       "      <td>1</td>\n",
       "      <td>10</td>\n",
       "      <td>3</td>\n",
       "      <td>10</td>\n",
       "      <td>7</td>\n",
       "      <td>1</td>\n",
       "      <td>7</td>\n",
       "    </tr>\n",
       "  </tbody>\n",
       "</table>\n",
       "<p>2 rows × 41 columns</p>\n",
       "</div>"
      ],
      "text/plain": [
       "  Attrition    Business Travel Age_group CF_attrition label Department  \\\n",
       "0       Yes      Travel_Rarely   35 - 44       Ex-Employees      Sales   \n",
       "1        No  Travel_Frequently   45 - 54  Current Employees        R&D   \n",
       "\n",
       "  Education Field   emp no  Employee Number  Gender            Job Role  ...  \\\n",
       "0   Life Sciences  STAFF-1                1  Female     Sales Executive  ...   \n",
       "1   Life Sciences  STAFF-2                2    Male  Research Scientist  ...   \n",
       "\n",
       "  Performance Rating Relationship Satisfaction Standard Hours  \\\n",
       "0                  3                         1             80   \n",
       "1                  4                         4             80   \n",
       "\n",
       "   Stock Option Level  Total Working Years  Work Life Balance  \\\n",
       "0                   0                    8                  1   \n",
       "1                   1                   10                  3   \n",
       "\n",
       "   Years At Company  Years In Current Role  Years Since Last Promotion  \\\n",
       "0                 6                      4                           0   \n",
       "1                10                      7                           1   \n",
       "\n",
       "   Years With Curr Manager  \n",
       "0                        5  \n",
       "1                        7  \n",
       "\n",
       "[2 rows x 41 columns]"
      ]
     },
     "execution_count": 7,
     "metadata": {},
     "output_type": "execute_result"
    }
   ],
   "source": [
    "data.rename(columns={\"CF_age band\":\"Age_group\"}, inplace = True)\n",
    "data.head(2)                                                       # Column successfuly renamed"
   ]
  },
  {
   "cell_type": "markdown",
   "id": "61c1bf43",
   "metadata": {},
   "source": [
    "# 2. What is the Gender Distrubution in the Company?  Answer by using  a chart."
   ]
  },
  {
   "cell_type": "code",
   "execution_count": 8,
   "id": "266d0e4c",
   "metadata": {},
   "outputs": [
    {
     "data": {
      "text/plain": [
       "Text(0.5, 1.0, 'Gender Distrubution in the company')"
      ]
     },
     "execution_count": 8,
     "metadata": {},
     "output_type": "execute_result"
    },
    {
     "data": {
      "image/png": "[encoded data removed]",
      "text/plain": [
       "<Figure size 640x480 with 1 Axes>"
      ]
     },
     "metadata": {},
     "output_type": "display_data"
    }
   ],
   "source": [
    "gender_distrubution=sns.countplot(x='Gender',data=data)\n",
    "for bars in gender_distrubution.containers:\n",
    "    gender_distrubution.bar_label(bars)\n",
    "plt.title(\"Gender Distrubution in the company\")"
   ]
  },
  {
   "cell_type": "markdown",
   "id": "259e0d7b",
   "metadata": {},
   "source": [
    "# 3. What is the Gender distrubution in each age_group? "
   ]
  },
  {
   "cell_type": "code",
   "execution_count": 9,
   "id": "73c22c59",
   "metadata": {},
   "outputs": [
    {
     "data": {
      "text/plain": [
       "Text(0.5, 1.0, 'Gender distrubition in each age_group')"
      ]
     },
     "execution_count": 9,
     "metadata": {},
     "output_type": "execute_result"
    },
    {
     "data": {
      "image/png": "[encoded data removed]",
      "text/plain": [
       "<Figure size 640x480 with 1 Axes>"
      ]
     },
     "metadata": {},
     "output_type": "display_data"
    }
   ],
   "source": [
    "age_distrubution=sns.countplot(data=data,x='Age_group',hue='Gender')\n",
    "for bars in age_distrubution.containers:\n",
    "    age_distrubution.bar_label(bars)\n",
    "plt.title(\"Gender distrubition in each age_group\")"
   ]
  },
  {
   "cell_type": "markdown",
   "id": "50f60f2e",
   "metadata": {},
   "source": [
    "# 4.  What is the Total No. of Attrition?"
   ]
  },
  {
   "cell_type": "code",
   "execution_count": 10,
   "id": "870c9601",
   "metadata": {},
   "outputs": [
    {
     "data": {
      "text/plain": [
       "No     1233\n",
       "Yes     237\n",
       "Name: Attrition, dtype: int64"
      ]
     },
     "execution_count": 10,
     "metadata": {},
     "output_type": "execute_result"
    }
   ],
   "source": [
    "data.Attrition.value_counts()"
   ]
  },
  {
   "cell_type": "code",
   "execution_count": 11,
   "id": "762854e7",
   "metadata": {},
   "outputs": [
    {
     "name": "stdout",
     "output_type": "stream",
     "text": [
      "237\n"
     ]
    }
   ],
   "source": [
    "# filtering the data by creating a minidataframe that contains only records where Attrition== \"Yes\"\n",
    "df1 = data[data.Attrition==\"Yes\"]\n",
    "total_attrition=df1.shape[0]\n",
    "print(total_attrition)                   #Answer : The Tital NO. of attrition is 237"
   ]
  },
  {
   "cell_type": "markdown",
   "id": "4f58991b",
   "metadata": {},
   "source": [
    "# 5. In which Age_group the No. of attrition is the highest?"
   ]
  },
  {
   "cell_type": "code",
   "execution_count": 12,
   "id": "abd19b58",
   "metadata": {},
   "outputs": [
    {
     "data": {
      "text/plain": [
       "Age_group\n",
       "25 - 34     112\n",
       "35 - 44      51\n",
       "Under 25     38\n",
       "45 - 54      25\n",
       "Over 55      11\n",
       "Name: Attrition, dtype: int64"
      ]
     },
     "execution_count": 12,
     "metadata": {},
     "output_type": "execute_result"
    }
   ],
   "source": [
    "age_wise_attrition=df1.groupby(\"Age_group\").Attrition.count().sort_values(ascending= False)\n",
    "age_wise_attrition"
   ]
  },
  {
   "cell_type": "code",
   "execution_count": 13,
   "id": "ac4cb289",
   "metadata": {},
   "outputs": [
    {
     "data": {
      "image/png": "[encoded data removed]",
      "text/plain": [
       "<Figure size 640x480 with 1 Axes>"
      ]
     },
     "metadata": {},
     "output_type": "display_data"
    }
   ],
   "source": [
    "#Creating a bar chart to visualize the answer \n",
    "age_wise_attrition.plot(kind=\"bar\")\n",
    "plt.title(\"Age wise Attrition Count\")\n",
    "plt.show()"
   ]
  },
  {
   "cell_type": "markdown",
   "id": "7946f55c",
   "metadata": {},
   "source": [
    "# 6. What is the maximum No. of years has an employee ever spent in a particular role? "
   ]
  },
  {
   "cell_type": "code",
   "execution_count": 14,
   "id": "fb53d00f",
   "metadata": {},
   "outputs": [
    {
     "data": {
      "text/plain": [
       "18"
      ]
     },
     "execution_count": 14,
     "metadata": {},
     "output_type": "execute_result"
    }
   ],
   "source": [
    "data[\"Years In Current Role\"].max()"
   ]
  },
  {
   "cell_type": "markdown",
   "id": "c02eb6b7",
   "metadata": {},
   "source": [
    "# 7 What is the attrition rate per department?"
   ]
  },
  {
   "cell_type": "code",
   "execution_count": 15,
   "id": "9ebe6add",
   "metadata": {},
   "outputs": [
    {
     "data": {
      "text/plain": [
       "Department\n",
       "R&D      133\n",
       "Sales     92\n",
       "HR        12\n",
       "Name: Attrition, dtype: int64"
      ]
     },
     "execution_count": 15,
     "metadata": {},
     "output_type": "execute_result"
    }
   ],
   "source": [
    "department_wise_attritition=df1.groupby(\"Department\").Attrition.count().sort_values( ascending= False)\n",
    "department_wise_attritition"
   ]
  },
  {
   "cell_type": "code",
   "execution_count": 16,
   "id": "3d2392e2",
   "metadata": {},
   "outputs": [
    {
     "data": {
      "text/plain": [
       "Department\n",
       "R&D      56.118143\n",
       "Sales    38.818565\n",
       "HR        5.063291\n",
       "Name: Attrition, dtype: float64"
      ]
     },
     "execution_count": 16,
     "metadata": {},
     "output_type": "execute_result"
    }
   ],
   "source": [
    "#Calculating the attrirtion rate \n",
    "percentage = department_wise_attritition/total_attrition*100\n",
    "percentage"
   ]
  },
  {
   "cell_type": "code",
   "execution_count": 17,
   "id": "005f43b0",
   "metadata": {},
   "outputs": [
    {
     "data": {
      "image/png": "[encoded data removed]",
      "text/plain": [
       "<Figure size 640x480 with 1 Axes>"
      ]
     },
     "metadata": {},
     "output_type": "display_data"
    }
   ],
   "source": [
    "#inserting a pie chart to visualize the answer \n",
    "plt.pie(percentage,labels= percentage.index, autopct='%1.1f%%',startangle=120)\n",
    "plt.title(\"Department wise Attrition Rate\")\n",
    "plt.axis(\"equal\")\n",
    "plt.show()"
   ]
  },
  {
   "cell_type": "markdown",
   "id": "b2480896",
   "metadata": {},
   "source": [
    "# 8. In average, which gender tends to stay longer in the company?"
   ]
  },
  {
   "cell_type": "code",
   "execution_count": 18,
   "id": "5861e319",
   "metadata": {},
   "outputs": [
    {
     "data": {
      "text/plain": [
       "Gender\n",
       "Female    7.231293\n",
       "Male      6.859410\n",
       "Name: Years At Company, dtype: float64"
      ]
     },
     "execution_count": 18,
     "metadata": {},
     "output_type": "execute_result"
    }
   ],
   "source": [
    "data.groupby(\"Gender\")[\"Years At Company\"].mean()   "
   ]
  },
  {
   "cell_type": "markdown",
   "id": "c7ffe730",
   "metadata": {},
   "source": [
    "# 9. In which age_group do we have best performance rating the most?"
   ]
  },
  {
   "cell_type": "code",
   "execution_count": 20,
   "id": "9cd36b07",
   "metadata": {},
   "outputs": [
    {
     "data": {
      "text/plain": [
       "Age_group\n",
       "25 - 34     86\n",
       "35 - 44     75\n",
       "45 - 54     36\n",
       "Under 25    16\n",
       "Over 55     13\n",
       "Name: Performance Rating, dtype: int64"
      ]
     },
     "execution_count": 20,
     "metadata": {},
     "output_type": "execute_result"
    }
   ],
   "source": [
    "df2 = data[data[\"Performance Rating\"]==4]\n",
    "df2.groupby(\"Age_group\")[\"Performance Rating\"].count().sort_values(ascending= False)"
   ]
  },
  {
   "cell_type": "markdown",
   "id": "df777446",
   "metadata": {},
   "source": [
    "# 10. Search for the promotion outliers in each department"
   ]
  },
  {
   "cell_type": "code",
   "execution_count": 21,
   "id": "07d58106",
   "metadata": {},
   "outputs": [
    {
     "data": {
      "image/png": "[encoded data removed]",
      "text/plain": [
       "<Figure size 640x480 with 1 Axes>"
      ]
     },
     "metadata": {},
     "output_type": "display_data"
    }
   ],
   "source": [
    "data.boxplot(column=\"Years Since Last Promotion\", by=\"Department\")\n",
    "plt.ylabel(\"Years Since Last Promotion\")\n",
    "plt.title(\"Box Plot of promotion by department\")\n",
    "plt.suptitle(\"\")\n",
    "plt.show()"
   ]
  },
  {
   "cell_type": "markdown",
   "id": "bd2d9630",
   "metadata": {},
   "source": [
    "From the above boxplot, we can note that:\n",
    "1. In all departments, 50% of employees last promotion is under 1 year. \n",
    "2. HR and R&D departments have similar cases as the box sizes are the same although we have more outliers in R&D\n",
    " "
   ]
  },
  {
   "cell_type": "markdown",
   "id": "8dd66016",
   "metadata": {},
   "source": [
    "# Conclusion\n",
    "At the end of the various analysis, the following points can be noted:  \n",
    "_  Age wise, most of the attritions is from the group \"25_34\" and that same age_group has more of the highest performance rating,  \n",
    "_ R&D has more than 50% of the attrition rate,In average, majority of employees from all departments receive promotion within a year.  \n",
    "_ In average, majority of employees from all departments receive promotion within a year.\n",
    " "
   ]
  },
  {
   "cell_type": "markdown",
   "id": "b1f0f714",
   "metadata": {},
   "source": [
    "# Seyni Idé Bassirou"
   ]
  }
 ],
 "metadata": {
  "kernelspec": {
   "display_name": "Python 3 (ipykernel)",
   "language": "python",
   "name": "python3"
  },
  "language_info": {
   "codemirror_mode": {
    "name": "ipython",
    "version": 3
   },
   "file_extension": ".py",
   "mimetype": "text/x-python",
   "name": "python",
   "nbconvert_exporter": "python",
   "pygments_lexer": "ipython3",
   "version": "3.11.3"
  }
 },
 "nbformat": 4,
 "nbformat_minor": 5
}
